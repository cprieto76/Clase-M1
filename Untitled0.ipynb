{
  "nbformat": 4,
  "nbformat_minor": 0,
  "metadata": {
    "colab": {
      "provenance": [],
      "authorship_tag": "ABX9TyMNZ58/BF5tg8+DUfEvDug2",
      "include_colab_link": true
    },
    "kernelspec": {
      "name": "python3",
      "display_name": "Python 3"
    },
    "language_info": {
      "name": "python"
    }
  },
  "cells": [
    {
      "cell_type": "markdown",
      "metadata": {
        "id": "view-in-github",
        "colab_type": "text"
      },
      "source": [
        "<a href=\"https://colab.research.google.com/github/cprieto76/Clase-M1/blob/main/Untitled0.ipynb\" target=\"_parent\"><img src=\"https://colab.research.google.com/assets/colab-badge.svg\" alt=\"Open In Colab\"/></a>"
      ]
    },
    {
      "cell_type": "code",
      "source": [
        "import numpy as np"
      ],
      "metadata": {
        "id": "Zkv1mZnViFi9"
      },
      "execution_count": 2,
      "outputs": []
    },
    {
      "cell_type": "code",
      "source": [
        "import matplotlib.pyplot as plt"
      ],
      "metadata": {
        "id": "qz7Dqpf6iS8l"
      },
      "execution_count": 11,
      "outputs": []
    },
    {
      "cell_type": "code",
      "execution_count": 22,
      "metadata": {
        "colab": {
          "base_uri": "https://localhost:8080/"
        },
        "id": "b3AlujsPh38Z",
        "outputId": "91e3908a-b24d-408a-f01c-e1e168252d3a"
      },
      "outputs": [
        {
          "output_type": "stream",
          "name": "stdout",
          "text": [
            "[3 1 1 2 4] [1.  2.6 4.2 5.8 7.4 9. ]\n"
          ]
        }
      ],
      "source": [
        "\n",
        "data = [1,2,2,3,5,6,7,8,8,9,9]\n",
        "\n",
        "frecuencias,extremos = np.histogram(data, bins=5)\n",
        "print(frecuencias,extremos)"
      ]
    },
    {
      "cell_type": "code",
      "source": [
        "mean = sum(data) / len(data) #data es una lista en python\n",
        "print(mean)"
      ],
      "metadata": {
        "colab": {
          "base_uri": "https://localhost:8080/"
        },
        "id": "kR7g4a_bqctw",
        "outputId": "9310e06f-44ec-4611-b669-c1bb782b3d90"
      },
      "execution_count": 27,
      "outputs": [
        {
          "output_type": "stream",
          "name": "stdout",
          "text": [
            "5.454545454545454\n"
          ]
        }
      ]
    },
    {
      "cell_type": "code",
      "source": [
        "print(np.mean(data)) #Media numpy"
      ],
      "metadata": {
        "colab": {
          "base_uri": "https://localhost:8080/"
        },
        "id": "2IvrtmayqdoD",
        "outputId": "f1d4b48d-2926-4f38-a08f-8eaa69887b1a"
      },
      "execution_count": 25,
      "outputs": [
        {
          "output_type": "stream",
          "name": "stdout",
          "text": [
            "5.454545454545454\n"
          ]
        }
      ]
    },
    {
      "cell_type": "code",
      "source": [
        "plt.hist(x=data, bins=5, color='#F2AB6D', rwidth=0.85)\n",
        "plt.title('Histograma ejemplo')\n",
        "plt.xlabel('Data')\n",
        "plt.ylabel('Frecuencia')\n",
        "plt.show() "
      ],
      "metadata": {
        "colab": {
          "base_uri": "https://localhost:8080/",
          "height": 295
        },
        "id": "ACZwhZq9iEXM",
        "outputId": "5924a845-6ba8-495f-b665-5cbe91a89f19"
      },
      "execution_count": 20,
      "outputs": [
        {
          "output_type": "display_data",
          "data": {
            "text/plain": [
              "<Figure size 432x288 with 1 Axes>"
            ],
            "image/png": "[encoded data removed]"
          },
          "metadata": {
            "needs_background": "light"
          }
        }
      ]
    },
    {
      "cell_type": "code",
      "source": [
        "import matplotlib\n",
        "print(dir(matplotlib))"
      ],
      "metadata": {
        "colab": {
          "base_uri": "https://localhost:8080/"
        },
        "id": "GlMySOe-ibGS",
        "outputId": "5f088d24-87ac-400e-9ba2-bb8835f64bfe"
      },
      "execution_count": 13,
      "outputs": [
        {
          "output_type": "stream",
          "name": "stdout",
          "text": [
            "['ExecutableNotFoundError', 'MatplotlibDeprecationWarning', 'MutableMapping', 'Parameter', 'Path', 'RcParams', '_ExecInfo', '_VersionInfo', '__bibtex__', '__builtins__', '__cached__', '__doc__', '__file__', '__getattr__', '__loader__', '__name__', '__package__', '__path__', '__spec__', '_add_data_doc', '_afm', '_api', '_blocking_input', '_c_internal_utils', '_check_versions', '_cm', '_cm_listed', '_color_data', '_constrained_layout', '_deprecated_ignore_map', '_deprecated_map', '_deprecated_remain_as_none', '_docstring', '_ensure_handler', '_enums', '_fontconfig_pattern', '_get_config_or_cache_dir', '_get_executable_info', '_get_ssl_context', '_get_version', '_get_xdg_cache_dir', '_get_xdg_config_dir', '_image', '_init_tests', '_label_from_arg', '_layoutgrid', '_log', '_logged_cached', '_mathtext', '_mathtext_data', '_open_file_or_url', '_parse_to_version_info', '_path', '_preprocess_data', '_pylab_helpers', '_rc_params_in_file', '_replacer', '_text_helpers', '_tight_bbox', '_tight_layout', '_version', 'artist', 'atexit', 'axes', 'axis', 'backend_bases', 'backend_managers', 'backend_tools', 'backends', 'bezier', 'category', 'cbook', 'checkdep_usetex', 'cm', 'collections', 'color_sequences', 'colorbar', 'colormaps', 'colors', 'container', 'contextlib', 'contour', 'cycler', 'dates', 'defaultParams', 'dviread', 'figure', 'font_manager', 'ft2font', 'functools', 'get_backend', 'get_cachedir', 'get_configdir', 'get_data_path', 'gridspec', 'hatch', 'image', 'importlib', 'inspect', 'interactive', 'is_interactive', 'layout_engine', 'legend', 'legend_handler', 'lines', 'locale', 'logging', 'markers', 'mathtext', 'matplotlib_fname', 'mlab', 'namedtuple', 'numpy', 'offsetbox', 'os', 'parse_version', 'patches', 'path', 'pprint', 'projections', 'pyplot', 'quiver', 'rc', 'rcParams', 'rcParamsDefault', 'rcParamsOrig', 'rc_context', 'rc_file', 'rc_file_defaults', 'rc_params', 'rc_params_from_file', 'rcdefaults', 'rcsetup', 're', 'sanitize_sequence', 'scale', 'set_loglevel', 'shutil', 'spines', 'stackplot', 'streamplot', 'style', 'subprocess', 'sys', 'table', 'tempfile', 'texmanager', 'text', 'textpath', 'ticker', 'transforms', 'tri', 'units', 'use', 'validate_backend', 'warnings', 'widgets']\n"
          ]
        }
      ]
    },
    {
      "cell_type": "code",
      "source": [
        "import numpy as np\n",
        "\n",
        "# Arreglo de valores\n",
        "valores = np.array([1, 2, 3, 4, 5])\n",
        "\n",
        "# Arreglo de pesos\n",
        "pesos = np.array([0.1, 0.2, 0.3, 0.2, 0.2])\n",
        "\n",
        "# Calcular la media ponderada\n",
        "media_ponderada = np.average(valores, weights=pesos)\n",
        "\n",
        "print(\"La media ponderada es:\", media_ponderada)"
      ],
      "metadata": {
        "colab": {
          "base_uri": "https://localhost:8080/"
        },
        "id": "KN-m8EgKusfJ",
        "outputId": "3650dcf4-50bd-4ba7-a221-1982ab406d60"
      },
      "execution_count": 30,
      "outputs": [
        {
          "output_type": "stream",
          "name": "stdout",
          "text": [
            "La media ponderada es: 3.2\n"
          ]
        }
      ]
    },
    {
      "cell_type": "code",
      "source": [
        "# Media geometrica\n",
        "# la media geométrica se calcula multiplicando los valores y luego sacando la raíz enésima del producto, donde \"n\" es el número de valores en el conjunto."
      ],
      "metadata": {
        "id": "Z8ZnGNMSxduE"
      },
      "execution_count": 31,
      "outputs": []
    },
    {
      "cell_type": "code",
      "source": [
        "# Ejemplo en python\n",
        "valores = [2, 4, 8, 16, 32]\n",
        "producto = 1\n",
        "n = len(valores)\n",
        "\n",
        "for i in range(n):\n",
        "    producto *= valores[i]\n",
        "\n",
        "media_geometrica = producto ** (1/n)\n",
        "\n",
        "print(\"La media geométrica es:\", media_geometrica)\n"
      ],
      "metadata": {
        "colab": {
          "base_uri": "https://localhost:8080/"
        },
        "id": "hu5E7KcN0F4R",
        "outputId": "7005f67a-26ae-4157-ff28-16398038116e"
      },
      "execution_count": 32,
      "outputs": [
        {
          "output_type": "stream",
          "name": "stdout",
          "text": [
            "La media geométrica es: 8.000000000000002\n"
          ]
        }
      ]
    },
    {
      "cell_type": "code",
      "source": [
        "#Ejemplo en numpy\n",
        "import numpy as np\n",
        "\n",
        "valores = np.array([2, 4, 8, 16, 32])\n",
        "\n",
        "media_geometrica = np.power(np.prod(valores), 1/len(valores))\n",
        "\n",
        "print(\"La media geométrica es:\", media_geometrica)"
      ],
      "metadata": {
        "colab": {
          "base_uri": "https://localhost:8080/"
        },
        "id": "gupphmyi0OxP",
        "outputId": "14aeac2f-8acc-4844-b3e5-8ea63f529ead"
      },
      "execution_count": 33,
      "outputs": [
        {
          "output_type": "stream",
          "name": "stdout",
          "text": [
            "La media geométrica es: 8.000000000000002\n"
          ]
        }
      ]
    }
  ]
}